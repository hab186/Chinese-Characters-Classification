{
 "cells": [
  {
   "cell_type": "code",
   "execution_count": 1,
   "metadata": {
    "collapsed": true
   },
   "outputs": [],
   "source": [
    "# -*- coding: utf-8 -*-\n",
    "\"\"\"\n",
    "Created on Sun Sep 30 10:19:21 2018\n",
    "\n",
    "@author: hbasanta\n",
    "\"\"\"\n",
    "import os\n",
    "from os import walk\n",
    "import numpy as np\n",
    "import matplotlib.pylab as plt\n",
    "from scipy import ndimage\n",
    "import pandas as pd\n",
    "os.chdir(r'C:\\Users\\hbasanta\\Documents\\Meetup\\September 2018\\tcc_png')\n",
    "cwd = r'C:\\Users\\hbasanta\\Documents\\Meetup\\September 2018\\tcc_png'\n",
    "image_list = []\n",
    "image_list_name = []\n",
    "image_type = []\n",
    "im_array = []\n",
    "im_array_simple = []\n",
    "new_im = []\n",
    "new_im_array = []\n",
    "folder_list = os.listdir()"
   ]
  },
  {
   "cell_type": "code",
   "execution_count": 3,
   "metadata": {},
   "outputs": [
    {
     "name": "stdout",
     "output_type": "stream",
     "text": [
      "C:\\\\Users\\\\hbasanta\\\\Documents\\\\Meetup\\\\September 2018\\\\tcc_png\\\\a440\\\n",
      "C:\\\\Users\\\\hbasanta\\\\Documents\\\\Meetup\\\\September 2018\\\\tcc_png\\\\a447\\\n",
      "C:\\\\Users\\\\hbasanta\\\\Documents\\\\Meetup\\\\September 2018\\\\tcc_png\\\\a448\\\n",
      "C:\\\\Users\\\\hbasanta\\\\Documents\\\\Meetup\\\\September 2018\\\\tcc_png\\\\a44a\\\n",
      "C:\\\\Users\\\\hbasanta\\\\Documents\\\\Meetup\\\\September 2018\\\\tcc_png\\\\a451\\\n",
      "C:\\\\Users\\\\hbasanta\\\\Documents\\\\Meetup\\\\September 2018\\\\tcc_png\\\\a453\\\n",
      "C:\\\\Users\\\\hbasanta\\\\Documents\\\\Meetup\\\\September 2018\\\\tcc_png\\\\a454\\\n",
      "C:\\\\Users\\\\hbasanta\\\\Documents\\\\Meetup\\\\September 2018\\\\tcc_png\\\\a455\\\n",
      "C:\\\\Users\\\\hbasanta\\\\Documents\\\\Meetup\\\\September 2018\\\\tcc_png\\\\a457\\\n",
      "C:\\\\Users\\\\hbasanta\\\\Documents\\\\Meetup\\\\September 2018\\\\tcc_png\\\\a45d\\\n",
      "C:\\\\Users\\\\hbasanta\\\\Documents\\\\Meetup\\\\September 2018\\\\tcc_png\\\\a45f\\\n",
      "C:\\\\Users\\\\hbasanta\\\\Documents\\\\Meetup\\\\September 2018\\\\tcc_png\\\\a464\\\n",
      "C:\\\\Users\\\\hbasanta\\\\Documents\\\\Meetup\\\\September 2018\\\\tcc_png\\\\a467\\\n",
      "C:\\\\Users\\\\hbasanta\\\\Documents\\\\Meetup\\\\September 2018\\\\tcc_png\\\\a46a\\\n",
      "C:\\\\Users\\\\hbasanta\\\\Documents\\\\Meetup\\\\September 2018\\\\tcc_png\\\\a46b\\\n",
      "C:\\\\Users\\\\hbasanta\\\\Documents\\\\Meetup\\\\September 2018\\\\tcc_png\\\\a46c\\\n",
      "C:\\\\Users\\\\hbasanta\\\\Documents\\\\Meetup\\\\September 2018\\\\tcc_png\\\\a470\\\n",
      "C:\\\\Users\\\\hbasanta\\\\Documents\\\\Meetup\\\\September 2018\\\\tcc_png\\\\a473\\\n",
      "C:\\\\Users\\\\hbasanta\\\\Documents\\\\Meetup\\\\September 2018\\\\tcc_png\\\\a474\\\n",
      "C:\\\\Users\\\\hbasanta\\\\Documents\\\\Meetup\\\\September 2018\\\\tcc_png\\\\a475\\\n",
      "C:\\\\Users\\\\hbasanta\\\\Documents\\\\Meetup\\\\September 2018\\\\tcc_png\\\\a476\\\n",
      "C:\\\\Users\\\\hbasanta\\\\Documents\\\\Meetup\\\\September 2018\\\\tcc_png\\\\a4a3\\\n",
      "C:\\\\Users\\\\hbasanta\\\\Documents\\\\Meetup\\\\September 2018\\\\tcc_png\\\\a4a4\\\n",
      "C:\\\\Users\\\\hbasanta\\\\Documents\\\\Meetup\\\\September 2018\\\\tcc_png\\\\a4a7\\\n",
      "C:\\\\Users\\\\hbasanta\\\\Documents\\\\Meetup\\\\September 2018\\\\tcc_png\\\\a4bd\\\n",
      "C:\\\\Users\\\\hbasanta\\\\Documents\\\\Meetup\\\\September 2018\\\\tcc_png\\\\a4c0\\\n",
      "C:\\\\Users\\\\hbasanta\\\\Documents\\\\Meetup\\\\September 2018\\\\tcc_png\\\\a4ce\\\n",
      "C:\\\\Users\\\\hbasanta\\\\Documents\\\\Meetup\\\\September 2018\\\\tcc_png\\\\a4d1\\\n",
      "C:\\\\Users\\\\hbasanta\\\\Documents\\\\Meetup\\\\September 2018\\\\tcc_png\\\\a4d2\\\n",
      "C:\\\\Users\\\\hbasanta\\\\Documents\\\\Meetup\\\\September 2018\\\\tcc_png\\\\a4e2\\\n",
      "C:\\\\Users\\\\hbasanta\\\\Documents\\\\Meetup\\\\September 2018\\\\tcc_png\\\\a4e5\\\n",
      "C:\\\\Users\\\\hbasanta\\\\Documents\\\\Meetup\\\\September 2018\\\\tcc_png\\\\a4e8\\\n",
      "C:\\\\Users\\\\hbasanta\\\\Documents\\\\Meetup\\\\September 2018\\\\tcc_png\\\\a4e9\\\n",
      "C:\\\\Users\\\\hbasanta\\\\Documents\\\\Meetup\\\\September 2018\\\\tcc_png\\\\a4eb\\\n",
      "C:\\\\Users\\\\hbasanta\\\\Documents\\\\Meetup\\\\September 2018\\\\tcc_png\\\\a4ec\\\n",
      "C:\\\\Users\\\\hbasanta\\\\Documents\\\\Meetup\\\\September 2018\\\\tcc_png\\\\a4f1\\\n",
      "C:\\\\Users\\\\hbasanta\\\\Documents\\\\Meetup\\\\September 2018\\\\tcc_png\\\\a4f4\\\n",
      "C:\\\\Users\\\\hbasanta\\\\Documents\\\\Meetup\\\\September 2018\\\\tcc_png\\\\a4fb\\\n",
      "C:\\\\Users\\\\hbasanta\\\\Documents\\\\Meetup\\\\September 2018\\\\tcc_png\\\\a4fd\\\n",
      "C:\\\\Users\\\\hbasanta\\\\Documents\\\\Meetup\\\\September 2018\\\\tcc_png\\\\a540\\\n",
      "C:\\\\Users\\\\hbasanta\\\\Documents\\\\Meetup\\\\September 2018\\\\tcc_png\\\\a548\\\n",
      "C:\\\\Users\\\\hbasanta\\\\Documents\\\\Meetup\\\\September 2018\\\\tcc_png\\\\a558\\\n",
      "C:\\\\Users\\\\hbasanta\\\\Documents\\\\Meetup\\\\September 2018\\\\tcc_png\\\\a55b\\\n",
      "C:\\\\Users\\\\hbasanta\\\\Documents\\\\Meetup\\\\September 2018\\\\tcc_png\\\\a569\\\n",
      "C:\\\\Users\\\\hbasanta\\\\Documents\\\\Meetup\\\\September 2018\\\\tcc_png\\\\a56b\\\n",
      "C:\\\\Users\\\\hbasanta\\\\Documents\\\\Meetup\\\\September 2018\\\\tcc_png\\\\a57e\\\n",
      "C:\\\\Users\\\\hbasanta\\\\Documents\\\\Meetup\\\\September 2018\\\\tcc_png\\\\a5a6\\\n",
      "C:\\\\Users\\\\hbasanta\\\\Documents\\\\Meetup\\\\September 2018\\\\tcc_png\\\\a5aa\\\n",
      "C:\\\\Users\\\\hbasanta\\\\Documents\\\\Meetup\\\\September 2018\\\\tcc_png\\\\a5bf\\\n",
      "C:\\\\Users\\\\hbasanta\\\\Documents\\\\Meetup\\\\September 2018\\\\tcc_png\\\\a5c1\\\n",
      "C:\\\\Users\\\\hbasanta\\\\Documents\\\\Meetup\\\\September 2018\\\\tcc_png\\\\a5c9\\\n",
      "C:\\\\Users\\\\hbasanta\\\\Documents\\\\Meetup\\\\September 2018\\\\tcc_png\\\\a5ce\\\n",
      "C:\\\\Users\\\\hbasanta\\\\Documents\\\\Meetup\\\\September 2018\\\\tcc_png\\\\a5d0\\\n",
      "C:\\\\Users\\\\hbasanta\\\\Documents\\\\Meetup\\\\September 2018\\\\tcc_png\\\\a5d5\\\n",
      "C:\\\\Users\\\\hbasanta\\\\Documents\\\\Meetup\\\\September 2018\\\\tcc_png\\\\a5db\\\n",
      "C:\\\\Users\\\\hbasanta\\\\Documents\\\\Meetup\\\\September 2018\\\\tcc_png\\\\a5df\\\n",
      "C:\\\\Users\\\\hbasanta\\\\Documents\\\\Meetup\\\\September 2018\\\\tcc_png\\\\a5fd\\\n",
      "C:\\\\Users\\\\hbasanta\\\\Documents\\\\Meetup\\\\September 2018\\\\tcc_png\\\\a5fe\\\n",
      "C:\\\\Users\\\\hbasanta\\\\Documents\\\\Meetup\\\\September 2018\\\\tcc_png\\\\a650\\\n",
      "C:\\\\Users\\\\hbasanta\\\\Documents\\\\Meetup\\\\September 2018\\\\tcc_png\\\\a656\\\n",
      "C:\\\\Users\\\\hbasanta\\\\Documents\\\\Meetup\\\\September 2018\\\\tcc_png\\\\a658\\\n",
      "C:\\\\Users\\\\hbasanta\\\\Documents\\\\Meetup\\\\September 2018\\\\tcc_png\\\\a668\\\n",
      "C:\\\\Users\\\\hbasanta\\\\Documents\\\\Meetup\\\\September 2018\\\\tcc_png\\\\a67e\\\n",
      "C:\\\\Users\\\\hbasanta\\\\Documents\\\\Meetup\\\\September 2018\\\\tcc_png\\\\a6a8\\\n",
      "C:\\\\Users\\\\hbasanta\\\\Documents\\\\Meetup\\\\September 2018\\\\tcc_png\\\\a6b3\\\n",
      "C:\\\\Users\\\\hbasanta\\\\Documents\\\\Meetup\\\\September 2018\\\\tcc_png\\\\a6b8\\\n",
      "C:\\\\Users\\\\hbasanta\\\\Documents\\\\Meetup\\\\September 2018\\\\tcc_png\\\\a6b9\\\n",
      "C:\\\\Users\\\\hbasanta\\\\Documents\\\\Meetup\\\\September 2018\\\\tcc_png\\\\a6ca\\\n",
      "C:\\\\Users\\\\hbasanta\\\\Documents\\\\Meetup\\\\September 2018\\\\tcc_png\\\\a6d1\\\n",
      "C:\\\\Users\\\\hbasanta\\\\Documents\\\\Meetup\\\\September 2018\\\\tcc_png\\\\a6d3\\\n",
      "C:\\\\Users\\\\hbasanta\\\\Documents\\\\Meetup\\\\September 2018\\\\tcc_png\\\\a6d5\\\n",
      "C:\\\\Users\\\\hbasanta\\\\Documents\\\\Meetup\\\\September 2018\\\\tcc_png\\\\a6db\\\n",
      "C:\\\\Users\\\\hbasanta\\\\Documents\\\\Meetup\\\\September 2018\\\\tcc_png\\\\a6e6\\\n",
      "C:\\\\Users\\\\hbasanta\\\\Documents\\\\Meetup\\\\September 2018\\\\tcc_png\\\\a6e7\\\n",
      "C:\\\\Users\\\\hbasanta\\\\Documents\\\\Meetup\\\\September 2018\\\\tcc_png\\\\a6e8\\\n",
      "C:\\\\Users\\\\hbasanta\\\\Documents\\\\Meetup\\\\September 2018\\\\tcc_png\\\\a740\\\n",
      "C:\\\\Users\\\\hbasanta\\\\Documents\\\\Meetup\\\\September 2018\\\\tcc_png\\\\a751\\\n",
      "C:\\\\Users\\\\hbasanta\\\\Documents\\\\Meetup\\\\September 2018\\\\tcc_png\\\\a7da\\\n",
      "C:\\\\Users\\\\hbasanta\\\\Documents\\\\Meetup\\\\September 2018\\\\tcc_png\\\\a86b\\\n",
      "C:\\\\Users\\\\hbasanta\\\\Documents\\\\Meetup\\\\September 2018\\\\tcc_png\\\\a8a3\\\n",
      "C:\\\\Users\\\\hbasanta\\\\Documents\\\\Meetup\\\\September 2018\\\\tcc_png\\\\a8a7\\\n",
      "C:\\\\Users\\\\hbasanta\\\\Documents\\\\Meetup\\\\September 2018\\\\tcc_png\\\\a8ad\\\n",
      "C:\\\\Users\\\\hbasanta\\\\Documents\\\\Meetup\\\\September 2018\\\\tcc_png\\\\a8ae\\\n",
      "C:\\\\Users\\\\hbasanta\\\\Documents\\\\Meetup\\\\September 2018\\\\tcc_png\\\\a8bd\\\n",
      "C:\\\\Users\\\\hbasanta\\\\Documents\\\\Meetup\\\\September 2018\\\\tcc_png\\\\a8c3\\\n",
      "C:\\\\Users\\\\hbasanta\\\\Documents\\\\Meetup\\\\September 2018\\\\tcc_png\\\\a8c6\\\n",
      "C:\\\\Users\\\\hbasanta\\\\Documents\\\\Meetup\\\\September 2018\\\\tcc_png\\\\a8d3\\\n",
      "C:\\\\Users\\\\hbasanta\\\\Documents\\\\Meetup\\\\September 2018\\\\tcc_png\\\\a8e0\\\n",
      "C:\\\\Users\\\\hbasanta\\\\Documents\\\\Meetup\\\\September 2018\\\\tcc_png\\\\a8e2\\\n",
      "C:\\\\Users\\\\hbasanta\\\\Documents\\\\Meetup\\\\September 2018\\\\tcc_png\\\\a8e4\\\n",
      "C:\\\\Users\\\\hbasanta\\\\Documents\\\\Meetup\\\\September 2018\\\\tcc_png\\\\a977\\\n",
      "C:\\\\Users\\\\hbasanta\\\\Documents\\\\Meetup\\\\September 2018\\\\tcc_png\\\\a9ce\\\n",
      "C:\\\\Users\\\\hbasanta\\\\Documents\\\\Meetup\\\\September 2018\\\\tcc_png\\\\a9d2\\\n",
      "C:\\\\Users\\\\hbasanta\\\\Documents\\\\Meetup\\\\September 2018\\\\tcc_png\\\\a9fa\\\n",
      "C:\\\\Users\\\\hbasanta\\\\Documents\\\\Meetup\\\\September 2018\\\\tcc_png\\\\aa46\\\n",
      "C:\\\\Users\\\\hbasanta\\\\Documents\\\\Meetup\\\\September 2018\\\\tcc_png\\\\aa47\\\n",
      "C:\\\\Users\\\\hbasanta\\\\Documents\\\\Meetup\\\\September 2018\\\\tcc_png\\\\aacc\\\n",
      "C:\\\\Users\\\\hbasanta\\\\Documents\\\\Meetup\\\\September 2018\\\\tcc_png\\\\aaf7\\\n",
      "C:\\\\Users\\\\hbasanta\\\\Documents\\\\Meetup\\\\September 2018\\\\tcc_png\\\\aaf8\\\n",
      "C:\\\\Users\\\\hbasanta\\\\Documents\\\\Meetup\\\\September 2018\\\\tcc_png\\\\aaf9\\\n",
      "C:\\\\Users\\\\hbasanta\\\\Documents\\\\Meetup\\\\September 2018\\\\tcc_png\\\\ab42\\\n",
      "C:\\\\Users\\\\hbasanta\\\\Documents\\\\Meetup\\\\September 2018\\\\tcc_png\\\\ab48\\\n",
      "C:\\\\Users\\\\hbasanta\\\\Documents\\\\Meetup\\\\September 2018\\\\tcc_png\\\\ac46\\\n",
      "C:\\\\Users\\\\hbasanta\\\\Documents\\\\Meetup\\\\September 2018\\\\tcc_png\\\\acdb\\\n",
      "C:\\\\Users\\\\hbasanta\\\\Documents\\\\Meetup\\\\September 2018\\\\tcc_png\\\\ad78\\\n",
      "C:\\\\Users\\\\hbasanta\\\\Documents\\\\Meetup\\\\September 2018\\\\tcc_png\\\\adab\\\n",
      "C:\\\\Users\\\\hbasanta\\\\Documents\\\\Meetup\\\\September 2018\\\\tcc_png\\\\adfb\\\n",
      "C:\\\\Users\\\\hbasanta\\\\Documents\\\\Meetup\\\\September 2018\\\\tcc_png\\\\ae61\\\n",
      "C:\\\\Users\\\\hbasanta\\\\Documents\\\\Meetup\\\\September 2018\\\\tcc_png\\\\afe0\\\n",
      "C:\\\\Users\\\\hbasanta\\\\Documents\\\\Meetup\\\\September 2018\\\\tcc_png\\\\b0a8\\\n",
      "C:\\\\Users\\\\hbasanta\\\\Documents\\\\Meetup\\\\September 2018\\\\tcc_png\\\\b0aa\\\n",
      "C:\\\\Users\\\\hbasanta\\\\Documents\\\\Meetup\\\\September 2018\\\\tcc_png\\\\b0ea\\\n",
      "C:\\\\Users\\\\hbasanta\\\\Documents\\\\Meetup\\\\September 2018\\\\tcc_png\\\\b160\\\n",
      "C:\\\\Users\\\\hbasanta\\\\Documents\\\\Meetup\\\\September 2018\\\\tcc_png\\\\b16f\\\n",
      "C:\\\\Users\\\\hbasanta\\\\Documents\\\\Meetup\\\\September 2018\\\\tcc_png\\\\b1d0\\\n",
      "C:\\\\Users\\\\hbasanta\\\\Documents\\\\Meetup\\\\September 2018\\\\tcc_png\\\\b3a3\\\n",
      "C:\\\\Users\\\\hbasanta\\\\Documents\\\\Meetup\\\\September 2018\\\\tcc_png\\\\b3bd\\\n",
      "C:\\\\Users\\\\hbasanta\\\\Documents\\\\Meetup\\\\September 2018\\\\tcc_png\\\\b3be\\\n"
     ]
    },
    {
     "name": "stdout",
     "output_type": "stream",
     "text": [
      "C:\\\\Users\\\\hbasanta\\\\Documents\\\\Meetup\\\\September 2018\\\\tcc_png\\\\b54c\\\n",
      "C:\\\\Users\\\\hbasanta\\\\Documents\\\\Meetup\\\\September 2018\\\\tcc_png\\\\b6c0\\\n",
      "C:\\\\Users\\\\hbasanta\\\\Documents\\\\Meetup\\\\September 2018\\\\tcc_png\\\\b773\\\n",
      "C:\\\\Users\\\\hbasanta\\\\Documents\\\\Meetup\\\\September 2018\\\\tcc_png\\\\b944\\\n",
      "C:\\\\Users\\\\hbasanta\\\\Documents\\\\Meetup\\\\September 2018\\\\tcc_png\\\\bb44\\\n",
      "C:\\\\Users\\\\hbasanta\\\\Documents\\\\Meetup\\\\September 2018\\\\tcc_png\\\\bb50\\\n",
      "C:\\\\Users\\\\hbasanta\\\\Documents\\\\Meetup\\\\September 2018\\\\tcc_png\\\\bec7\\\n"
     ]
    }
   ],
   "source": [
    "for folders in folder_list:\n",
    "    if os.path.isdir(folders):\n",
    "        image_list = os.listdir(r'C:\\Users\\hbasanta\\Documents\\Meetup\\September 2018\\\\tcc_png\\\\'+folders)\n",
    "        image_list_name.extend(image_list)\n",
    "        print(r'C:\\\\Users\\\\hbasanta\\\\Documents\\\\Meetup\\\\September 2018\\\\tcc_png\\\\'+folders+'\\\\')\n",
    "        for images in image_list:\n",
    "            im_array.append(ndimage.imread(cwd+'\\\\'+folders+'\\\\'+images, mode = 'L'))\n",
    "for images in image_list_name:\n",
    "    image_type.append(images[:4])\n"
   ]
  },
  {
   "cell_type": "code",
   "execution_count": 4,
   "metadata": {
    "collapsed": true
   },
   "outputs": [],
   "source": [
    "def plti(im, h=8, **kwargs):\n",
    "    \"\"\"\n",
    "    Helper function to plot an image.\n",
    "    \"\"\"\n",
    "    y = im.shape[0]\n",
    "    x = im.shape[1]\n",
    "    w = (y/x) * h\n",
    "    plt.figure(figsize=(w,h))\n",
    "    plt.imshow(im, cmap='Greys', interpolation=\"none\", **kwargs)\n",
    "    plt.axis('off')\n",
    "\n",
    "plti(im_array[0])\n",
    "\n",
    "for items in im_array:\n",
    "    im_array_simple.append(items.reshape(5135))\n",
    "im_array_simple = np.vstack(im_array_simple)"
   ]
  },
  {
   "cell_type": "code",
   "execution_count": 5,
   "metadata": {
    "collapsed": true
   },
   "outputs": [],
   "source": [
    "# In[]\n",
    "scrubbed_image_list = []\n",
    "for items in image_list_name:\n",
    "    if 'chuxi' in items:\n",
    "        scrubbed_image_list.append('chuxi')\n",
    "    if 'jinwen' in items:\n",
    "        scrubbed_image_list.append('jinwen')\n",
    "    if 'oracle' in items:\n",
    "        scrubbed_image_list.append('oracle')\n",
    "    if 'seal' in items:\n",
    "        scrubbed_image_list.append('seal')\n"
   ]
  },
  {
   "cell_type": "code",
   "execution_count": 6,
   "metadata": {
    "collapsed": true
   },
   "outputs": [],
   "source": [
    "# In[] Shuffle the training set\n",
    "\n",
    "import numpy as np\n",
    "image_type = np.asarray(image_type)\n",
    "shuffle_index = np.random.permutation(8232)\n",
    "im_array_simple, image_type = im_array_simple[shuffle_index], image_type[shuffle_index]"
   ]
  },
  {
   "cell_type": "code",
   "execution_count": 7,
   "metadata": {
    "collapsed": true
   },
   "outputs": [],
   "source": [
    "# In[] Test train split\n",
    "\n",
    "header = ['Class']\n",
    "cols_to_transform = header[:]\n",
    "df_image_type = pd.get_dummies(image_type, columns=cols_to_transform)\n",
    "df_y_image_type_np = df_image_type.values\n",
    "X_train, X_test, y_train, y_test = im_array_simple[:7000], im_array_simple[7000:], image_type[:7000], image_type[7000:]\n",
    "y_test_tf = df_y_image_type_np[7000:]\n",
    "y_train_tf = df_y_image_type_np[:7000]\n",
    "#df_y_test_tf = pd.get_dummies(y_test_tf, columns=cols_to_transform)\n",
    "#df_y__np = df_y_training.values\n",
    "\n",
    "some_digit = X_train[5996]"
   ]
  },
  {
   "cell_type": "code",
   "execution_count": 8,
   "metadata": {},
   "outputs": [
    {
     "data": {
      "text/plain": [
       "<matplotlib.figure.Figure at 0x198cda4b0f0>"
      ]
     },
     "execution_count": 8,
     "metadata": {},
     "output_type": "execute_result"
    }
   ],
   "source": [
    "# In[]\n",
    "from sklearn.neighbors import KNeighborsClassifier\n",
    "from sklearn.model_selection import cross_val_score\n",
    "score = []\n",
    "n = [  1 ]\n",
    "for k in n:\n",
    "    knn = KNeighborsClassifier(n_neighbors = k, weights = 'uniform')\n",
    "#forest_clf = RandomForestClassifier(n_estimators = 500, max_leaf_nodes = 16, n_jobs = -1)\n",
    "    knn.fit(X_train, y_train)\n",
    "    #score.append(cross_val_score(knn, X_train, y_train, cv=10, scoring = 'accuracy'))\n",
    "\n",
    "final = knn.score(X_test, y_test)\n",
    "index = 0\n",
    "misclassifiedIndexes = []\n",
    "predictions = knn.predict(X_test)\n",
    "for label, predict in zip(y_test, predictions):\n",
    "    if label != predict: \n",
    "        misclassifiedIndexes.append(index)\n",
    "    index +=1\n",
    "plt.figure(figsize=(20,4))"
   ]
  },
  {
   "cell_type": "code",
   "execution_count": 9,
   "metadata": {},
   "outputs": [
    {
     "name": "stdout",
     "output_type": "stream",
     "text": [
      "0.627435064935065\n"
     ]
    }
   ],
   "source": [
    "print(final)"
   ]
  },
  {
   "cell_type": "code",
   "execution_count": null,
   "metadata": {
    "collapsed": true
   },
   "outputs": [],
   "source": []
  }
 ],
 "metadata": {
  "hide_input": false,
  "kernelspec": {
   "display_name": "Python 3",
   "language": "python",
   "name": "python3"
  },
  "language_info": {
   "codemirror_mode": {
    "name": "ipython",
    "version": 3
   },
   "file_extension": ".py",
   "mimetype": "text/x-python",
   "name": "python",
   "nbconvert_exporter": "python",
   "pygments_lexer": "ipython3",
   "version": "3.6.3"
  },
  "varInspector": {
   "cols": {
    "lenName": 16,
    "lenType": 16,
    "lenVar": 40
   },
   "kernels_config": {
    "python": {
     "delete_cmd_postfix": "",
     "delete_cmd_prefix": "del ",
     "library": "var_list.py",
     "varRefreshCmd": "print(var_dic_list())"
    },
    "r": {
     "delete_cmd_postfix": ") ",
     "delete_cmd_prefix": "rm(",
     "library": "var_list.r",
     "varRefreshCmd": "cat(var_dic_list()) "
    }
   },
   "types_to_exclude": [
    "module",
    "function",
    "builtin_function_or_method",
    "instance",
    "_Feature"
   ],
   "window_display": false
  }
 },
 "nbformat": 4,
 "nbformat_minor": 2
}
